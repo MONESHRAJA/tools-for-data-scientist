{
 "cells": [
  {
   "cell_type": "markdown",
   "id": "babad6ef-4f19-4c83-9151-7c38cb822700",
   "metadata": {},
   "source": [
    "# Data Science Tools and Ecosystem"
   ]
  },
  {
   "cell_type": "markdown",
   "id": "bcd355e2-da85-436e-a2e1-0b734350491a",
   "metadata": {},
   "source": [
    "In this notebook, Data Science Tool and Ecosystem are summarized"
   ]
  },
  {
   "cell_type": "markdown",
   "id": "7850a151-3dff-4746-b448-dcc1df84e2c8",
   "metadata": {},
   "source": [
    "**Objectives:**\n",
    "- List popular languages for Data Science\n",
    "- commonly used libraries used by Data scientists\n",
    "-  Data Science Tools (by using create table method)\n",
    "- examples of evaluating arithmetic expressins"
   ]
  },
  {
   "cell_type": "markdown",
   "id": "44d5f8ac-d356-4479-b410-35b2873fe7b6",
   "metadata": {},
   "source": [
    "Some of the popular languages that Data Scientists use are:\n",
    "1. python\n",
    "2. R programming language\n",
    "3. SQL\n",
    "4. Java\n",
    "5. Julia\n",
    "6. C++\n",
    "7. Scala\n",
    "8. visual basic for application"
   ]
  },
  {
   "cell_type": "markdown",
   "id": "e133ad5e-d519-43df-afcc-83d6759b5786",
   "metadata": {},
   "source": [
    "Some of the commonly used libraries used by Data scientists include:\n",
    "1. caret\n",
    "2. ggplot\n",
    "3. plotly\n",
    "4. pandas\n",
    "5. numpy\n",
    "6. seaborn\n",
    "7. matplotlib\n",
    "8. scikit-learn"
   ]
  },
  {
   "cell_type": "markdown",
   "id": "231386c1-9b37-444b-95de-0f5bcaac5188",
   "metadata": {},
   "source": [
    "| Data Science Tools|\n",
    "| ----------------- |\n",
    "| python | \n",
    "| SQL | \n",
    "| R | \n",
    "| Java | \n",
    "| scala | \n"
   ]
  },
  {
   "cell_type": "markdown",
   "id": "c7dfd08d-07a8-4632-a373-bf1b61567551",
   "metadata": {},
   "source": [
    "### Below are few examples of evaluating arithmetic expressins in python."
   ]
  },
  {
   "cell_type": "markdown",
   "id": "ff44cbbf-6917-4103-ba9b-f66ef93381e4",
   "metadata": {},
   "source": [
    " This a simple arithmetic expression to mutiply then add integers"
   ]
  },
  {
   "cell_type": "code",
   "execution_count": 3,
   "id": "032c168e-bf09-48fb-9fc6-6532881b7869",
   "metadata": {},
   "outputs": [
    {
     "data": {
      "text/plain": [
       "17"
      ]
     },
     "execution_count": 3,
     "metadata": {},
     "output_type": "execute_result"
    }
   ],
   "source": [
    "(3*4+5)"
   ]
  },
  {
   "cell_type": "markdown",
   "id": "b114279a-333c-4b0b-8c0a-091207a7d538",
   "metadata": {},
   "source": [
    " This will convert 200 minutes to hours by diving by 60"
   ]
  },
  {
   "cell_type": "code",
   "execution_count": 4,
   "id": "98a53515-26dd-4c69-a664-9dede9bc4f79",
   "metadata": {},
   "outputs": [
    {
     "data": {
      "text/plain": [
       "3.3333333333333335"
      ]
     },
     "execution_count": 4,
     "metadata": {},
     "output_type": "execute_result"
    }
   ],
   "source": [
    "minutes = 200\n",
    "hours = minutes/60\n",
    "hours"
   ]
  },
  {
   "cell_type": "markdown",
   "id": "4f3c8306-64cf-402e-a2e7-8bd3d0e504d4",
   "metadata": {},
   "source": [
    "## Author\n",
    "Monesh Raja"
   ]
  }
 ],
 "metadata": {
  "kernelspec": {
   "display_name": "Python 3 (ipykernel)",
   "language": "python",
   "name": "python3"
  },
  "language_info": {
   "codemirror_mode": {
    "name": "ipython",
    "version": 3
   },
   "file_extension": ".py",
   "mimetype": "text/x-python",
   "name": "python",
   "nbconvert_exporter": "python",
   "pygments_lexer": "ipython3",
   "version": "3.11.9"
  }
 },
 "nbformat": 4,
 "nbformat_minor": 5
}
